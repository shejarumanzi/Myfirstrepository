{
 "cells": [
  {
   "cell_type": "markdown",
   "id": "6f8ea455-819f-4675-937d-b99accd7f558",
   "metadata": {},
   "source": [
    "Some of the popular languages that Data Scientists use are:\r\n",
    "\r\n",
    "1. Python  \r\n",
    "2. R  \r\n",
    "3. SQL  \r\n",
    "4. Julia  \r\n",
    "5. Scala\r\n"
   ]
  },
  {
   "cell_type": "code",
   "execution_count": null,
   "id": "4f0bd37b-173b-41e6-937b-4d287329afc6",
   "metadata": {},
   "outputs": [],
   "source": []
  },
  {
   "cell_type": "markdown",
   "id": "2bb02fe9-944a-4ba0-a66b-0d6656b83f42",
   "metadata": {},
   "source": [
    "Some of the commonly used libraries used by Data Scientists include:\r\n",
    "\r\n",
    "1. NumPy  \r\n",
    "2. Pandas  \r\n",
    "3. Matplotlib  \r\n",
    "4. Scikit-learn  \r\n",
    "5. TensorFlow\r\n"
   ]
  },
  {
   "cell_type": "markdown",
   "id": "3e80e682-3b5f-4cb3-a678-e782ca70ef60",
   "metadata": {},
   "source": [
    "| Data Science Tools |\n",
    "|--------------------|\n",
    "| Jupyter Notebook   |\n",
    "| RStudio            |\n",
    "| VS Code            |\n"
   ]
  },
  {
   "cell_type": "markdown",
   "id": "4831ad1f-c381-4048-8e6f-08ebd924c2db",
   "metadata": {},
   "source": [
    "### Below are a few examples of evaluating arithmetic expressions in Python.\r\n"
   ]
  },
  {
   "cell_type": "code",
   "execution_count": 7,
   "id": "0adda867-261b-42b1-ac95-152978aa5f32",
   "metadata": {},
   "outputs": [
    {
     "data": {
      "text/plain": [
       "17"
      ]
     },
     "execution_count": 7,
     "metadata": {},
     "output_type": "execute_result"
    }
   ],
   "source": [
    "# This is a simple arithmetic expression to multiply then add integers\n",
    "(3 * 4) + 5\n"
   ]
  },
  {
   "cell_type": "code",
   "execution_count": 8,
   "id": "2eef0c91-2364-4c5b-9d11-363f6165c150",
   "metadata": {},
   "outputs": [
    {
     "data": {
      "text/plain": [
       "3.3333333333333335"
      ]
     },
     "execution_count": 8,
     "metadata": {},
     "output_type": "execute_result"
    }
   ],
   "source": [
    "# This will convert 200 minutes to hours by dividing by 60\n",
    "200 / 60\n"
   ]
  },
  {
   "cell_type": "markdown",
   "id": "2541208d-c115-4e28-87ce-a38849711cde",
   "metadata": {},
   "source": [
    "**Objectives:**\r\n",
    "\r\n",
    "- List popular languages for Data Science\r\n",
    "- Understand basic Data Science concepts\r\n",
    "- Explore data manipulation techniques\r\n",
    "- Perform simple data visualizations\r\n",
    "- Learn about Data Science workflows\r\n"
   ]
  },
  {
   "cell_type": "markdown",
   "id": "d8236e31-a1fc-4853-8eaa-833ca0d242d6",
   "metadata": {},
   "source": [
    "## Author\r\n",
    "\r\n",
    "Aimable Nkurayija\r\n"
   ]
  },
  {
   "cell_type": "code",
   "execution_count": null,
   "id": "7251ae57-4568-4279-8061-32f3fff637fc",
   "metadata": {},
   "outputs": [],
   "source": []
  }
 ],
 "metadata": {
  "kernelspec": {
   "display_name": "anaconda-panel-2023.05-py310",
   "language": "python",
   "name": "conda-env-anaconda-panel-2023.05-py310-py"
  },
  "language_info": {
   "codemirror_mode": {
    "name": "ipython",
    "version": 3
   },
   "file_extension": ".py",
   "mimetype": "text/x-python",
   "name": "python",
   "nbconvert_exporter": "python",
   "pygments_lexer": "ipython3",
   "version": "3.11.5"
  }
 },
 "nbformat": 4,
 "nbformat_minor": 5
}
